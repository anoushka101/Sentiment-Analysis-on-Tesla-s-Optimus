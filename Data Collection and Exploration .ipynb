{
 "cells": [
  {
   "cell_type": "markdown",
   "metadata": {},
   "source": [
    "# SMM Paper 2: How reddit users react to the launch of Optimus Robot\n",
    "\n",
    "#### Anoushka Shinde (anshinde@iu.edu)\n",
    "\n"
   ]
  },
  {
   "cell_type": "markdown",
   "metadata": {},
   "source": [
    "## Data collection from Reddit using PRAW"
   ]
  },
  {
   "cell_type": "markdown",
   "metadata": {},
   "source": [
    "For installing praw:"
   ]
  },
  {
   "cell_type": "code",
   "execution_count": 1,
   "metadata": {
    "scrolled": true
   },
   "outputs": [
    {
     "name": "stdout",
     "output_type": "stream",
     "text": [
      "Requirement already satisfied: praw in c:\\anaconda\\lib\\site-packages (7.8.1)\n",
      "Requirement already satisfied: update_checker>=0.18 in c:\\anaconda\\lib\\site-packages (from praw) (0.18.0)\n",
      "Requirement already satisfied: prawcore<3,>=2.4 in c:\\anaconda\\lib\\site-packages (from praw) (2.4.0)\n",
      "Requirement already satisfied: websocket-client>=0.54.0 in c:\\anaconda\\lib\\site-packages (from praw) (0.58.0)\n",
      "Requirement already satisfied: requests<3.0,>=2.6.0 in c:\\users\\vikas shinde\\appdata\\roaming\\python\\python310\\site-packages (from prawcore<3,>=2.4->praw) (2.27.1)\n",
      "Requirement already satisfied: six in c:\\users\\vikas shinde\\appdata\\roaming\\python\\python310\\site-packages (from websocket-client>=0.54.0->praw) (1.16.0)\n",
      "Requirement already satisfied: idna<4,>=2.5 in c:\\users\\vikas shinde\\appdata\\roaming\\python\\python310\\site-packages (from requests<3.0,>=2.6.0->prawcore<3,>=2.4->praw) (3.3)\n",
      "Requirement already satisfied: urllib3<1.27,>=1.21.1 in c:\\users\\vikas shinde\\appdata\\roaming\\python\\python310\\site-packages (from requests<3.0,>=2.6.0->prawcore<3,>=2.4->praw) (1.26.9)\n",
      "Requirement already satisfied: charset-normalizer~=2.0.0 in c:\\users\\vikas shinde\\appdata\\roaming\\python\\python310\\site-packages (from requests<3.0,>=2.6.0->prawcore<3,>=2.4->praw) (2.0.12)\n",
      "Requirement already satisfied: certifi>=2017.4.17 in c:\\users\\vikas shinde\\appdata\\roaming\\python\\python310\\site-packages (from requests<3.0,>=2.6.0->prawcore<3,>=2.4->praw) (2021.10.8)\n",
      "Note: you may need to restart the kernel to use updated packages.\n"
     ]
    }
   ],
   "source": [
    "pip install praw"
   ]
  },
  {
   "cell_type": "code",
   "execution_count": 2,
   "metadata": {},
   "outputs": [],
   "source": [
    "import praw\n",
    "import pandas as pd\n",
    "from datetime import datetime, timedelta\n",
    "\n",
    "# Initialize Reddit API client using PRAW\n",
    "reddit = praw.Reddit(client_id='ACjvHudS9wYMwD7VkC9ikQ',\n",
    "                     client_secret='VpVyb6kaW7MrnhTuwMIoabqLr0paxw',\n",
    "                     user_agent=\"Smm_optimus by u/SeaRestaurant8690\",\n",
    "                     username='SeaRestaurant8690',\n",
    "                     password='smmreddit23')\n",
    " "
   ]
  },
  {
   "cell_type": "code",
   "execution_count": 3,
   "metadata": {},
   "outputs": [],
   "source": [
    "from datetime import datetime\n",
    "from praw.models import MoreComments\n",
    "\n",
    "# Define the subreddits and keywords\n",
    "subreddits = [\"Tesla\", \"technology\", \"robotics\", \"teslamotors\"]\n",
    "keywords = [\"Optimus robot\", \"Tesla Optimus\", \"Tesla robot\"]\n",
    "date_ranges = [\n",
    "    {\"name\": \"Section_A\", \"start\": datetime(2023, 9, 30), \"end\": datetime(2024, 10, 10)},\n",
    "    {\"name\": \"Section_B\", \"start\": datetime(2024, 10, 11), \"end\": datetime(2024, 11, 6)}\n",
    "]"
   ]
  },
  {
   "cell_type": "code",
   "execution_count": 4,
   "metadata": {},
   "outputs": [],
   "source": [
    "# Create a list to store data\n",
    "data = []"
   ]
  },
  {
   "cell_type": "code",
   "execution_count": 5,
   "metadata": {},
   "outputs": [],
   "source": [
    "# Function to retrieve comments\n",
    "def get_comments(submission, limit=35):\n",
    "    comments_data = []\n",
    "    submission.comments.replace_more(limit=0)  # Ensure no 'MoreComments' placeholder\n",
    "    for comment in submission.comments.list()[:limit]:\n",
    "        comment_data = {\n",
    "            \"Content\": comment.body,\n",
    "            \"Timestamp\": datetime.utcfromtimestamp(comment.created_utc),\n",
    "            \"Upvotes\": comment.score,\n",
    "            \"Type\": \"comment\"\n",
    "        }\n",
    "        comments_data.append(comment_data)\n",
    "    return comments_data\n",
    "\n",
    "# Fetch posts and comments\n",
    "for subreddit in subreddits:\n",
    "    for keyword in keywords:\n",
    "        for section in date_ranges:\n",
    "            # Search posts\n",
    "            for submission in reddit.subreddit(subreddit).search(keyword, limit=10):\n",
    "                submission_date = datetime.utcfromtimestamp(submission.created_utc)\n",
    "                # Filter by date range\n",
    "                if section[\"start\"] <= submission_date <= section[\"end\"]:\n",
    "                    # Collect post data\n",
    "                    post_data = {\n",
    "                        \"Content\": submission.title + \" \" + submission.selftext,\n",
    "                        \"Timestamp\": submission_date,\n",
    "                        \"Upvotes\": submission.score,\n",
    "                        \"Type\": \"post\",\n",
    "                        \"Section\": section[\"name\"]\n",
    "                    }\n",
    "                    data.append(post_data)\n",
    "                    \n",
    "                    # Collect comments data\n",
    "                    comments_data = get_comments(submission)\n",
    "                    for comment in comments_data:\n",
    "                        comment[\"Section\"] = section[\"name\"]  # Add section info to each comment\n",
    "                        data.append(comment)"
   ]
  },
  {
   "cell_type": "code",
   "execution_count": 6,
   "metadata": {},
   "outputs": [
    {
     "name": "stdout",
     "output_type": "stream",
     "text": [
      "Data collection complete. Check 'reddit_data.csv' for results.\n"
     ]
    }
   ],
   "source": [
    "# Convert data to DataFrame and save to CSV\n",
    "df = pd.DataFrame(data)\n",
    "df.to_csv('reddit_data.csv', index=False)\n",
    "\n",
    "print(\"Data collection complete. Check 'reddit_data.csv' for results.\")"
   ]
  },
  {
   "cell_type": "markdown",
   "metadata": {},
   "source": [
    "#### CSV File Structure\n",
    "The resulting CSV will contain columns for:\n",
    "\n",
    "- Content: Content of the post or comment.\n",
    "- Timestamp: Timestamp of the post or comment.\n",
    "- Upvotes: Number of upvotes received.\n",
    "- Type: Whether it's a \"post\" or \"comment.\"\n",
    "- Section: Section A is before the event, Section B is on the day of and after the event."
   ]
  },
  {
   "cell_type": "code",
   "execution_count": 7,
   "metadata": {},
   "outputs": [
    {
     "data": {
      "text/html": [
       "<div>\n",
       "<style scoped>\n",
       "    .dataframe tbody tr th:only-of-type {\n",
       "        vertical-align: middle;\n",
       "    }\n",
       "\n",
       "    .dataframe tbody tr th {\n",
       "        vertical-align: top;\n",
       "    }\n",
       "\n",
       "    .dataframe thead th {\n",
       "        text-align: right;\n",
       "    }\n",
       "</style>\n",
       "<table border=\"1\" class=\"dataframe\">\n",
       "  <thead>\n",
       "    <tr style=\"text-align: right;\">\n",
       "      <th></th>\n",
       "      <th>Content</th>\n",
       "      <th>Timestamp</th>\n",
       "      <th>Upvotes</th>\n",
       "      <th>Type</th>\n",
       "      <th>Section</th>\n",
       "    </tr>\n",
       "  </thead>\n",
       "  <tbody>\n",
       "    <tr>\n",
       "      <th>0</th>\n",
       "      <td>Tesla has put 2 Optimus robots to work on its ...</td>\n",
       "      <td>2024-06-12 13:45:13</td>\n",
       "      <td>0</td>\n",
       "      <td>post</td>\n",
       "      <td>Section_A</td>\n",
       "    </tr>\n",
       "    <tr>\n",
       "      <th>1</th>\n",
       "      <td>I feel sorry for the two interns that have to ...</td>\n",
       "      <td>2024-06-12 14:25:31</td>\n",
       "      <td>40</td>\n",
       "      <td>comment</td>\n",
       "      <td>Section_A</td>\n",
       "    </tr>\n",
       "    <tr>\n",
       "      <th>2</th>\n",
       "      <td>&gt;It is unclear which factory the robots are op...</td>\n",
       "      <td>2024-06-12 21:23:03</td>\n",
       "      <td>15</td>\n",
       "      <td>comment</td>\n",
       "      <td>Section_A</td>\n",
       "    </tr>\n",
       "    <tr>\n",
       "      <th>3</th>\n",
       "      <td>Just out of curiosity, is there a point to wal...</td>\n",
       "      <td>2024-06-12 14:12:51</td>\n",
       "      <td>8</td>\n",
       "      <td>comment</td>\n",
       "      <td>Section_A</td>\n",
       "    </tr>\n",
       "    <tr>\n",
       "      <th>4</th>\n",
       "      <td>Don't forget the greed-bot in the CEO-office.</td>\n",
       "      <td>2024-06-12 14:27:21</td>\n",
       "      <td>6</td>\n",
       "      <td>comment</td>\n",
       "      <td>Section_A</td>\n",
       "    </tr>\n",
       "  </tbody>\n",
       "</table>\n",
       "</div>"
      ],
      "text/plain": [
       "                                             Content           Timestamp  \\\n",
       "0  Tesla has put 2 Optimus robots to work on its ... 2024-06-12 13:45:13   \n",
       "1  I feel sorry for the two interns that have to ... 2024-06-12 14:25:31   \n",
       "2  >It is unclear which factory the robots are op... 2024-06-12 21:23:03   \n",
       "3  Just out of curiosity, is there a point to wal... 2024-06-12 14:12:51   \n",
       "4      Don't forget the greed-bot in the CEO-office. 2024-06-12 14:27:21   \n",
       "\n",
       "   Upvotes     Type    Section  \n",
       "0        0     post  Section_A  \n",
       "1       40  comment  Section_A  \n",
       "2       15  comment  Section_A  \n",
       "3        8  comment  Section_A  \n",
       "4        6  comment  Section_A  "
      ]
     },
     "execution_count": 7,
     "metadata": {},
     "output_type": "execute_result"
    }
   ],
   "source": [
    "df.head()"
   ]
  },
  {
   "cell_type": "code",
   "execution_count": 8,
   "metadata": {},
   "outputs": [
    {
     "name": "stdout",
     "output_type": "stream",
     "text": [
      "Number of rows in the data: 1762\n"
     ]
    }
   ],
   "source": [
    "num_rows = len(df)\n",
    "print(f\"Number of rows in the data: {num_rows}\")"
   ]
  },
  {
   "cell_type": "code",
   "execution_count": 9,
   "metadata": {},
   "outputs": [
    {
     "name": "stdout",
     "output_type": "stream",
     "text": [
      "Number of rows in each section:\n",
      "Section_B    898\n",
      "Section_A    864\n",
      "Name: Section, dtype: int64\n"
     ]
    }
   ],
   "source": [
    "# Count the number of rows in each section\n",
    "section_counts = df['Section'].value_counts()\n",
    "print(\"Number of rows in each section:\")\n",
    "print(section_counts)\n"
   ]
  },
  {
   "cell_type": "code",
   "execution_count": 10,
   "metadata": {},
   "outputs": [
    {
     "name": "stdout",
     "output_type": "stream",
     "text": [
      "Number of posts and comments:\n",
      "comment    1700\n",
      "post         62\n",
      "Name: Type, dtype: int64\n"
     ]
    }
   ],
   "source": [
    "# Count the number of posts and comments\n",
    "type_counts = df['Type'].value_counts()\n",
    "print(\"Number of posts and comments:\")\n",
    "print(type_counts)"
   ]
  },
  {
   "cell_type": "code",
   "execution_count": 11,
   "metadata": {},
   "outputs": [
    {
     "name": "stdout",
     "output_type": "stream",
     "text": [
      "Post and Comment Counts by Section:\n",
      "Type       comment  post\n",
      "Section                 \n",
      "Section_A      836    28\n",
      "Section_B      864    34\n"
     ]
    }
   ],
   "source": [
    "# Calculate the number of posts and comments in each section\n",
    "section_type_counts = df.groupby(['Section', 'Type']).size().unstack(fill_value=0)\n",
    "print(\"Post and Comment Counts by Section:\")\n",
    "print(section_type_counts)"
   ]
  },
  {
   "cell_type": "code",
   "execution_count": 12,
   "metadata": {},
   "outputs": [
    {
     "data": {
      "text/plain": [
       "30920"
      ]
     },
     "execution_count": 12,
     "metadata": {},
     "output_type": "execute_result"
    }
   ],
   "source": [
    "max_upvotes = df['Upvotes'].max()\n",
    "max_upvotes"
   ]
  },
  {
   "cell_type": "code",
   "execution_count": 13,
   "metadata": {
    "scrolled": true
   },
   "outputs": [
    {
     "data": {
      "text/plain": [
       "-165"
      ]
     },
     "execution_count": 13,
     "metadata": {},
     "output_type": "execute_result"
    }
   ],
   "source": [
    "min_upvotes = df['Upvotes'].min()\n",
    "min_upvotes"
   ]
  },
  {
   "cell_type": "code",
   "execution_count": 14,
   "metadata": {},
   "outputs": [
    {
     "name": "stdout",
     "output_type": "stream",
     "text": [
      "<class 'pandas.core.frame.DataFrame'>\n",
      "RangeIndex: 1762 entries, 0 to 1761\n",
      "Data columns (total 5 columns):\n",
      " #   Column     Non-Null Count  Dtype         \n",
      "---  ------     --------------  -----         \n",
      " 0   Content    1762 non-null   object        \n",
      " 1   Timestamp  1762 non-null   datetime64[ns]\n",
      " 2   Upvotes    1762 non-null   int64         \n",
      " 3   Type       1762 non-null   object        \n",
      " 4   Section    1762 non-null   object        \n",
      "dtypes: datetime64[ns](1), int64(1), object(3)\n",
      "memory usage: 69.0+ KB\n"
     ]
    }
   ],
   "source": [
    "df.info()"
   ]
  },
  {
   "cell_type": "code",
   "execution_count": 15,
   "metadata": {},
   "outputs": [
    {
     "name": "stdout",
     "output_type": "stream",
     "text": [
      "Top Upvoted Post or Comment:\n",
      "      Section                                            Content  Type  \\\n",
      "20  Section_B  The Optimus robots at Tesla’s Cybercab event w...  post   \n",
      "\n",
      "    Upvotes  \n",
      "20    30920  \n",
      "\n",
      "Least Upvoted Post or Comment:\n",
      "       Section                                            Content     Type  \\\n",
      "128  Section_A  BD are physical bots designed for mobility, li...  comment   \n",
      "\n",
      "     Upvotes  \n",
      "128     -165  \n"
     ]
    }
   ],
   "source": [
    "# Find the post or comment with the maximum upvotes\n",
    "top_upvoted = df[df['Upvotes'] == df['Upvotes'].max()]\n",
    "\n",
    "# Find the post or comment with the minimum upvotes (if needed)\n",
    "least_upvoted = df[df['Upvotes'] == df['Upvotes'].min()]\n",
    "\n",
    "# Display results\n",
    "print(\"Top Upvoted Post or Comment:\")\n",
    "print(top_upvoted[['Section', 'Content', 'Type', 'Upvotes']])\n",
    "\n",
    "print(\"\\nLeast Upvoted Post or Comment:\")\n",
    "print(least_upvoted[['Section', 'Content', 'Type', 'Upvotes']])\n"
   ]
  }
 ],
 "metadata": {
  "kernelspec": {
   "display_name": "Python 3 (ipykernel)",
   "language": "python",
   "name": "python3"
  },
  "language_info": {
   "codemirror_mode": {
    "name": "ipython",
    "version": 3
   },
   "file_extension": ".py",
   "mimetype": "text/x-python",
   "name": "python",
   "nbconvert_exporter": "python",
   "pygments_lexer": "ipython3",
   "version": "3.10.9"
  },
  "vscode": {
   "interpreter": {
    "hash": "b0fa6594d8f4cbf19f97940f81e996739fb7646882a419484c72d19e05852a7e"
   }
  }
 },
 "nbformat": 4,
 "nbformat_minor": 2
}
